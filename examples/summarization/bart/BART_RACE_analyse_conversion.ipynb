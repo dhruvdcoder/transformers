{
 "cells": [
  {
   "cell_type": "code",
   "execution_count": 2,
   "metadata": {},
   "outputs": [],
   "source": [
    "from pathlib import Path\n",
    "import json\n",
    "import tqdm"
   ]
  },
  {
   "cell_type": "code",
   "execution_count": 6,
   "metadata": {},
   "outputs": [],
   "source": [
    "# read input data\n",
    "set_ = 'dev'\n",
    "input_file = Path(f'../../.data/RACE/set3/{set_}_neural.json')"
   ]
  },
  {
   "cell_type": "code",
   "execution_count": 7,
   "metadata": {},
   "outputs": [],
   "source": [
    "with open(input_file) as f:\n",
    "    samples = json.load(f)"
   ]
  },
  {
   "cell_type": "code",
   "execution_count": 17,
   "metadata": {},
   "outputs": [
    {
     "name": "stdout",
     "output_type": "stream",
     "text": [
      "---Question+option\n",
      "What's the best title for this passage? A busy family\n",
      "Why are ECAs important now? They can reduce students' learning time.\n",
      "What can we learn from the text? Red and his friends enjoyed being recorded by the cameras.\n",
      "What can we infer from the passage? Kmart claimed to ensure the animals' safety but didn't do it very well.\n",
      "Which of the following is Not true? Many lottery winners buy themselves things with the money that they won.\n",
      "Which of the following can describe Mini's feeling? Sad.\n",
      "Which  of the following is right? Xiao Ming 's mother isn't at home.\n",
      "Why did people throw Mary into the river? To prove that she was guilty\n",
      "Which of the following is the best title  for this passage? An excellent mother\n",
      "What topic do the three pieces of information belong to? Society\n",
      "---Rule based---\n",
      "The best title for this passage's a busy family.\n",
      "ECAs are important now because they can reduce students' learning time.\n",
      "We can learn Red and his friends enjoyed being recorded by the cameras from the text.\n",
      "We can infer Kmart claimed to ensure the animals' safety but did n't do it very well from the passage.\n",
      "Many lottery winners buy themselves things with the money that they won is Not true\n",
      "Sad can describe Mini's feeling.\n",
      "Right is Xiao Ming's mother is n't at home.\n",
      "People threw Mary into the river to prove that she was guilty.\n",
      "The best title for this passage is an excellent mother.\n",
      "The three pieces of information belong to society.\n",
      "---Neural (BART) based---\n",
      "The best title for this passage is a busy family . ''\n",
      "ECAs are important now because they can reduce students' learning time .\n",
      "We can learn from the text that Red and his friends enjoyed being recorded by cameras . '\n",
      "We can infer from the passage that Kmart claimed to ensure animals ' safety but didn't do it very well . ''\n",
      "It is not true that many lottery winners buy themselves things with the money they won .\n",
      "Mini 's feeling can be described as sad . ''\n",
      "Xiao Ming 's mother isn't at home is right . ''\n",
      "People threw Mary into the river to prove that she was guilty .\n",
      "An excellent mother is the best title for this passage . '\n",
      "The three pieces of information belong to society .\n"
     ]
    }
   ],
   "source": [
    "sublist = samples[10:20]\n",
    "print('---Question+option')\n",
    "for s in sublist:\n",
    "    print(f\"{s['question'] +' '+s['option']}\")\n",
    "print('---Rule based---')\n",
    "for s in sublist:\n",
    "    print(f\"{s['hypothesis']}\")\n",
    "print('---Neural (BART) based---')\n",
    "for s in sublist:\n",
    "    print(f\"{s['neural_hypothesis']}\")"
   ]
  },
  {
   "cell_type": "code",
   "execution_count": null,
   "metadata": {},
   "outputs": [],
   "source": []
  }
 ],
 "metadata": {
  "kernelspec": {
   "display_name": "Python 3",
   "language": "python",
   "name": "python3"
  },
  "language_info": {
   "codemirror_mode": {
    "name": "ipython",
    "version": 3
   },
   "file_extension": ".py",
   "mimetype": "text/x-python",
   "name": "python",
   "nbconvert_exporter": "python",
   "pygments_lexer": "ipython3",
   "version": "3.7.4"
  }
 },
 "nbformat": 4,
 "nbformat_minor": 4
}
